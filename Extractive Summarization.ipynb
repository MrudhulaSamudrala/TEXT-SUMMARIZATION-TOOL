{
 "cells": [
  {
   "cell_type": "markdown",
   "id": "52a91c46-a2d3-4dee-b0f9-4d69bdb5088b",
   "metadata": {},
   "source": [
    "# Importing the Library"
   ]
  },
  {
   "cell_type": "code",
   "execution_count": 3,
   "id": "90784d49-46fd-46ed-a52f-46f260654b71",
   "metadata": {},
   "outputs": [
    {
     "name": "stdout",
     "output_type": "stream",
     "text": [
      "Summary:\n",
      " Artificial intelligence (AI) is intelligence demonstrated by machines, as opposed to human or animal intelligence. AI has become a major part of technology today, with applications in natural language processing, computer vision,\n",
      "robotics, and more.\n"
     ]
    },
    {
     "name": "stderr",
     "output_type": "stream",
     "text": [
      "C:\\Users\\User\\anaconda3\\Lib\\site-packages\\sklearn\\cluster\\_kmeans.py:1419: UserWarning: KMeans is known to have a memory leak on Windows with MKL, when there are less chunks than available threads. You can avoid it by setting the environment variable OMP_NUM_THREADS=1.\n",
      "  warnings.warn(\n"
     ]
    }
   ],
   "source": [
    "from summarizer import Summarizer\n",
    "\n",
    "# Initialize the BERT summarizer\n",
    "model = Summarizer()\n",
    "\n",
    "# Sample text\n",
    "text = \"\"\"\n",
    "Artificial intelligence (AI) is intelligence demonstrated by machines, as opposed to human or animal intelligence.\n",
    "It is a field of study that seeks to understand and replicate intelligent behavior in computers.\n",
    "AI has become a major part of technology today, with applications in natural language processing, computer vision,\n",
    "robotics, and more. Researchers aim to create systems that can solve problems, learn from data, and adapt to new situations.\n",
    "\"\"\"\n",
    "\n",
    "# Generate summary\n",
    "summary = model(text)\n",
    "print(\"Summary:\\n\", summary)"
   ]
  },
  {
   "cell_type": "code",
   "execution_count": null,
   "id": "7011670d-9cae-415b-8746-d4757e787156",
   "metadata": {},
   "outputs": [],
   "source": []
  }
 ],
 "metadata": {
  "kernelspec": {
   "display_name": "Python 3 (ipykernel)",
   "language": "python",
   "name": "python3"
  },
  "language_info": {
   "codemirror_mode": {
    "name": "ipython",
    "version": 3
   },
   "file_extension": ".py",
   "mimetype": "text/x-python",
   "name": "python",
   "nbconvert_exporter": "python",
   "pygments_lexer": "ipython3",
   "version": "3.12.3"
  }
 },
 "nbformat": 4,
 "nbformat_minor": 5
}
